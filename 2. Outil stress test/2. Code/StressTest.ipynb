{
 "cells": [
  {
   "cell_type": "code",
   "execution_count": 61,
   "metadata": {},
   "outputs": [],
   "source": [
    "import pandas as pd\n",
    "import numpy as np\n",
    "import math\n",
    "from scipy.stats import norm\n",
    "import matplotlib.pyplot as plt"
   ]
  },
  {
   "cell_type": "code",
   "execution_count": 84,
   "metadata": {},
   "outputs": [],
   "source": [
    "matrice_ttc=pd.DataFrame({'depuis':['a','b','c'],'a':[0.8,0.7,0.6],'b':[0.17,0.255,0.330],'c':[0.03,0.045,0.07]})\n",
    "hrc=list(matrice_ttc.columns)\n",
    "m_ttc=np.matrix(matrice_ttc.iloc[:,1:])\n",
    "pd_base=np.array([0.05,0.055,0.06])\n",
    "pd_adv=np.array([0.055,0.075,0.08])\n",
    "ead_pit=np.array([300,600,100])"
   ]
  },
  {
   "cell_type": "code",
   "execution_count": 85,
   "metadata": {},
   "outputs": [],
   "source": [
    "pd_ttc=float(np.average(m_ttc[:,-1],0,ead_pit))"
   ]
  },
  {
   "cell_type": "code",
   "execution_count": 86,
   "metadata": {},
   "outputs": [],
   "source": [
    "def correlation_baloise(pde):\n",
    "    a=0.03*(1-math.exp(-35*pde))/(1-math.exp(-35))\n",
    "    b=0.16*(1-(1-math.exp(-35*pde))/(1-math.exp(-35)))\n",
    "    return (a+b)\n",
    "\n",
    "corr=correlation_baloise(pd_ttc)"
   ]
  },
  {
   "cell_type": "code",
   "execution_count": 87,
   "metadata": {},
   "outputs": [],
   "source": [
    "def z_macro(pd_pit,pd_ttc,corr):\n",
    "    a=math.sqrt(1-corr)*norm.ppf(pd_pit)\n",
    "    b=norm.ppf(pd_ttc)\n",
    "    return ((a-b)/math.sqrt(corr))"
   ]
  },
  {
   "cell_type": "code",
   "execution_count": 105,
   "metadata": {},
   "outputs": [
    {
     "name": "stdout",
     "output_type": "stream",
     "text": [
      "[[0.03 ]\n",
      " [0.045]\n",
      " [0.07 ]]\n"
     ]
    },
    {
     "data": {
      "text/plain": [
       "array([[0.03485355],\n",
       "       [0.0523264 ],\n",
       "       [0.08130705]])"
      ]
     },
     "execution_count": 105,
     "metadata": {},
     "output_type": "execute_result"
    }
   ],
   "source": []
  },
  {
   "cell_type": "code",
   "execution_count": 119,
   "metadata": {},
   "outputs": [],
   "source": [
    "#Calcul du vecteur de defaut avec en entrée\n",
    "#la PD TTC par CHR (CHR,1)\n",
    "#la correlation (1,1)\n",
    "#le facteur de risque systematique de l'année concernée (1,1)\n",
    "def merton_default(pd_ttc,corr,z):\n",
    "    a=norm.ppf(pd_ttc)+math.sqrt(corr)*z\n",
    "    b=math.sqrt(1-corr)\n",
    "    return norm.cdf(a/b)\n",
    "print(m_ttc[:,-1])\n",
    "merton_default(m_ttc[:,-1],corr,zbase[0])\n",
    "#Pour une CHR d'une année donnée, calcul les taux de transition entre avec en entrée\n",
    "#i et j CHR de départ et CHR d'arrivée\n",
    "#la matrice de transition TTC (CHR,CHR)\n",
    "#le vecteur de risque systématique (1,1)\n",
    "#la matrice de transition PIT under construction (CHR,CHR)\n",
    "def transition_merton(i,j,tm_ttc,corr,z,tm_pit):\n",
    "    tm_ttc_cum=tm_ttc[i,j:].sum()\n",
    "    if tm_ttc_cum>=1:\n",
    "        temp=1-tm_pit[i,j+1:].sum()\n",
    "    else:\n",
    "        a=(norm.ppf(tm_ttc_cum)+math.sqrt(corr)*z)/math.sqrt(1-corr)\n",
    "        temp=norm.cdf(a)-tm_pit[i,j+1:].sum()\n",
    "    return temp\n",
    "\n",
    "#Construction de la matrice de transition projetée avec en entrée\n",
    "#Matrice de transition TTC (CHR,CHR)\n",
    "#le facteur de correlation (1,1)\n",
    "#le facteur de risque systématique (1,1)\n",
    "def transition_matrix_merton(tm_ttc,corr,z):\n",
    "    nb_rating=tm_ttc.shape[0]\n",
    "    tm=np.matrix(np.zeros((nb_rating,nb_rating)))\n",
    "\n",
    "    tm[:-1,-1]=merton_default(tm_ttc[:-1,-1],corr,z)\n",
    "    tm[nb_rating-1,nb_rating-1]=1\n",
    "    for i in range(nb_rating):\n",
    "        for j in reversed(range(nb_rating-1)):\n",
    "            if i == nb_rating-1:\n",
    "                tm[i,j]=0\n",
    "            else:\n",
    "                tm[i,j]=transition_merton(i,j,tm_ttc,corr,z,tm)\n",
    "    return tm"
   ]
  },
  {
   "cell_type": "code",
   "execution_count": 121,
   "metadata": {},
   "outputs": [],
   "source": [
    "zbase=z_macro(pd_base,pd_ttc,corr)\n",
    "zadv=z_macro(pd_adv,pd_ttc,corr)\n",
    "\n",
    "mproj={'1base':transition_matrix_merton(m_ttc,corr,zbase[0]),\n",
    "       '2base':transition_matrix_merton(m_ttc,corr,zbase[1]),\n",
    "       '3base':transition_matrix_merton(m_ttc,corr,zbase[2]),\n",
    "      '1adv':transition_matrix_merton(m_ttc,corr,zadv[0]),\n",
    "       '2adv':transition_matrix_merton(m_ttc,corr,zadv[1]),\n",
    "       '3adv':transition_matrix_merton(m_ttc,corr,zadv[2])}"
   ]
  },
  {
   "cell_type": "code",
   "execution_count": 123,
   "metadata": {},
   "outputs": [
    {
     "data": {
      "text/plain": [
       "{'1base': matrix([[0.77114798, 0.19399846, 0.03485355],\n",
       "         [0.66116416, 0.28650944, 0.0523264 ],\n",
       "         [0.        , 0.        , 1.        ]]),\n",
       " '2base': matrix([[0.75677691, 0.20462143, 0.03860166],\n",
       "         [0.6439294 , 0.29856265, 0.05750794],\n",
       "         [0.        , 0.        , 1.        ]]),\n",
       " '3base': matrix([[0.74297767, 0.21464395, 0.04237838],\n",
       "         [0.62762226, 0.30969341, 0.06268432],\n",
       "         [0.        , 0.        , 1.        ]]),\n",
       " '1adv': matrix([[0.75677691, 0.20462143, 0.03860166],\n",
       "         [0.6439294 , 0.29856265, 0.05750794],\n",
       "         [0.        , 0.        , 1.        ]]),\n",
       " '2adv': matrix([[0.70447347, 0.24166226, 0.05386428],\n",
       "         [0.58329114, 0.33852313, 0.07818573],\n",
       "         [0.        , 0.        , 1.        ]]),\n",
       " '3adv': matrix([[0.69246538, 0.24979403, 0.05774059],\n",
       "         [0.56979817, 0.34685735, 0.08334447],\n",
       "         [0.        , 0.        , 1.        ]])}"
      ]
     },
     "execution_count": 123,
     "metadata": {},
     "output_type": "execute_result"
    }
   ],
   "source": [
    "mproj"
   ]
  }
 ],
 "metadata": {
  "kernelspec": {
   "display_name": "Python 3",
   "language": "python",
   "name": "python3"
  },
  "language_info": {
   "codemirror_mode": {
    "name": "ipython",
    "version": 3
   },
   "file_extension": ".py",
   "mimetype": "text/x-python",
   "name": "python",
   "nbconvert_exporter": "python",
   "pygments_lexer": "ipython3",
   "version": "3.7.4"
  }
 },
 "nbformat": 4,
 "nbformat_minor": 2
}
