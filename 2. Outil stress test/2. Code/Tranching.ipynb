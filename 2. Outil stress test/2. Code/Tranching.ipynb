{
 "cells": [
  {
   "cell_type": "code",
   "execution_count": 44,
   "metadata": {},
   "outputs": [],
   "source": [
    "import pandas as pd\n",
    "import numpy as np\n",
    "import random\n",
    "import string"
   ]
  },
  {
   "cell_type": "code",
   "execution_count": 52,
   "metadata": {},
   "outputs": [
    {
     "data": {
      "text/html": [
       "<div>\n",
       "<style scoped>\n",
       "    .dataframe tbody tr th:only-of-type {\n",
       "        vertical-align: middle;\n",
       "    }\n",
       "\n",
       "    .dataframe tbody tr th {\n",
       "        vertical-align: top;\n",
       "    }\n",
       "\n",
       "    .dataframe thead th {\n",
       "        text-align: right;\n",
       "    }\n",
       "</style>\n",
       "<table border=\"1\" class=\"dataframe\">\n",
       "  <thead>\n",
       "    <tr style=\"text-align: right;\">\n",
       "      <th></th>\n",
       "      <th>file</th>\n",
       "      <th>hrc</th>\n",
       "      <th>pdi</th>\n",
       "    </tr>\n",
       "  </thead>\n",
       "  <tbody>\n",
       "    <tr>\n",
       "      <td>0</td>\n",
       "      <td>fbh</td>\n",
       "      <td>A1</td>\n",
       "      <td>0.0291</td>\n",
       "    </tr>\n",
       "    <tr>\n",
       "      <td>1</td>\n",
       "      <td>egp</td>\n",
       "      <td>A0</td>\n",
       "      <td>0.0176</td>\n",
       "    </tr>\n",
       "    <tr>\n",
       "      <td>2</td>\n",
       "      <td>nzu</td>\n",
       "      <td>A1</td>\n",
       "      <td>0.0291</td>\n",
       "    </tr>\n",
       "    <tr>\n",
       "      <td>3</td>\n",
       "      <td>xvz</td>\n",
       "      <td>A1</td>\n",
       "      <td>0.0291</td>\n",
       "    </tr>\n",
       "    <tr>\n",
       "      <td>4</td>\n",
       "      <td>jfk</td>\n",
       "      <td>A1</td>\n",
       "      <td>0.0291</td>\n",
       "    </tr>\n",
       "    <tr>\n",
       "      <td>5</td>\n",
       "      <td>syp</td>\n",
       "      <td>A1</td>\n",
       "      <td>0.0291</td>\n",
       "    </tr>\n",
       "    <tr>\n",
       "      <td>6</td>\n",
       "      <td>wvx</td>\n",
       "      <td>A2</td>\n",
       "      <td>0.0767</td>\n",
       "    </tr>\n",
       "    <tr>\n",
       "      <td>7</td>\n",
       "      <td>hbo</td>\n",
       "      <td>A0</td>\n",
       "      <td>0.0176</td>\n",
       "    </tr>\n",
       "    <tr>\n",
       "      <td>8</td>\n",
       "      <td>xjb</td>\n",
       "      <td>A1</td>\n",
       "      <td>0.0291</td>\n",
       "    </tr>\n",
       "    <tr>\n",
       "      <td>9</td>\n",
       "      <td>xlf</td>\n",
       "      <td>A0</td>\n",
       "      <td>0.0176</td>\n",
       "    </tr>\n",
       "  </tbody>\n",
       "</table>\n",
       "</div>"
      ],
      "text/plain": [
       "  file hrc     pdi\n",
       "0  fbh  A1  0.0291\n",
       "1  egp  A0  0.0176\n",
       "2  nzu  A1  0.0291\n",
       "3  xvz  A1  0.0291\n",
       "4  jfk  A1  0.0291\n",
       "5  syp  A1  0.0291\n",
       "6  wvx  A2  0.0767\n",
       "7  hbo  A0  0.0176\n",
       "8  xjb  A1  0.0291\n",
       "9  xlf  A0  0.0176"
      ]
     },
     "execution_count": 52,
     "metadata": {},
     "output_type": "execute_result"
    }
   ],
   "source": [
    "#generate random hrc and PD\n",
    "rows=10\n",
    "nb_hrc=3\n",
    "hrc=['A'+str(x) for x in list(np.random.randint(0,nb_hrc,rows))]\n",
    "pd_=np.sort(np.random.randint(0,1000,nb_hrc)/10000)\n",
    "hrc_unique=list(np.sort(list(set(hrc))))\n",
    "mapping=dict(zip(hrc_unique,pd_))\n",
    "pds=[mapping[i] for i in hrc]\n",
    "\n",
    "#generate random id\n",
    "def randomString(stringLength=3):\n",
    "    \"\"\"Generate a random string of fixed length \"\"\"\n",
    "    letters = string.ascii_lowercase\n",
    "    return ''.join(random.choice(letters) for i in range(stringLength))\n",
    "def randomFileList(size):\n",
    "    return [randomString() for i in range(size)]\n",
    "\n",
    "#generate random database\n",
    "df=pd.DataFrame({'file':randomFileList(rows),'hrc':hrc,'pdi':pds})\n",
    "df"
   ]
  },
  {
   "cell_type": "code",
   "execution_count": 4,
   "metadata": {},
   "outputs": [
    {
     "data": {
      "text/plain": [
       "array([2, 3, 8, 1, 3, 4, 5, 9, 9, 5])"
      ]
     },
     "execution_count": 4,
     "metadata": {},
     "output_type": "execute_result"
    }
   ],
   "source": [
    "s"
   ]
  },
  {
   "cell_type": "code",
   "execution_count": null,
   "metadata": {},
   "outputs": [],
   "source": []
  }
 ],
 "metadata": {
  "kernelspec": {
   "display_name": "Python 3",
   "language": "python",
   "name": "python3"
  },
  "language_info": {
   "codemirror_mode": {
    "name": "ipython",
    "version": 3
   },
   "file_extension": ".py",
   "mimetype": "text/x-python",
   "name": "python",
   "nbconvert_exporter": "python",
   "pygments_lexer": "ipython3",
   "version": "3.7.4"
  }
 },
 "nbformat": 4,
 "nbformat_minor": 2
}
